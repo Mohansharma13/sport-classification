{
 "cells": [
  {
   "cell_type": "code",
   "execution_count": 1,
   "metadata": {},
   "outputs": [],
   "source": [
    "import numpy as np\n",
    "import tensorflow as tf\n",
    "tf.config.list_physical_devices(\"GPU\")\n",
    "\n",
    "import matplotlib.pyplot as plt\n"
   ]
  },
  {
   "cell_type": "code",
   "execution_count": 2,
   "metadata": {},
   "outputs": [],
   "source": [
    "# train_ds=tf.keras.utils.image_dataset_from_directory(\n",
    "\n",
    "#     directory = '.\\\\archive (7)\\\\train',\n",
    "#     labels='inferred',\n",
    "#     label_mode = 'int',\n",
    "#     batch_size=32,\n",
    "#     image_size=(150,150)\n",
    "# )\n",
    "# val_ds=tf.keras.utils.image_dataset_from_directory(\n",
    "\n",
    "#     directory = '.\\\\archive (7)\\\\valid',\n",
    "#     labels='inferred',\n",
    "#     label_mode = 'int',\n",
    "#     batch_size=32,\n",
    "#     image_size=(150,150)\n",
    "# )\n",
    "\n",
    "# test_ds=tf.keras.utils.image_dataset_from_directory(\n",
    "\n",
    "#     directory = '.\\\\archive (7)\\\\test',\n",
    "#     labels='inferred',\n",
    "#     label_mode = 'int',\n",
    "#     batch_size=32,\n",
    "#     image_size=(150,150)\n",
    "# )\n"
   ]
  },
  {
   "cell_type": "code",
   "execution_count": 20,
   "metadata": {},
   "outputs": [
    {
     "name": "stdout",
     "output_type": "stream",
     "text": [
      "Found 13492 images belonging to 100 classes.\n",
      "Found 500 images belonging to 100 classes.\n",
      "Found 500 images belonging to 100 classes.\n"
     ]
    }
   ],
   "source": [
    "from keras.preprocessing.image import ImageDataGenerator\n",
    "\n",
    "batch_size = 32\n",
    "\n",
    "train_datagen = ImageDataGenerator(\n",
    "    rescale=1./255,\n",
    "    shear_range=0.2,\n",
    "    zoom_range=0.2,\n",
    "    horizontal_flip=True)\n",
    "\n",
    "test_datagen = ImageDataGenerator(rescale=1./255)\n",
    "\n",
    "train_gen = train_datagen.flow_from_directory(\n",
    "    '.\\\\archive (7)\\\\train',\n",
    "    target_size=(150, 150),\n",
    "    batch_size=batch_size,\n",
    "    class_mode='sparse')  # Use 'sparse' for integer labels\n",
    "\n",
    "validation_gen = train_datagen.flow_from_directory(\n",
    "    '.\\\\archive (7)\\\\valid',\n",
    "    target_size=(150, 150),\n",
    "    batch_size=batch_size,\n",
    "    class_mode='sparse')  # Use 'sparse' for integer labels\n",
    "\n",
    "test_gen = test_datagen.flow_from_directory(\n",
    "    '.\\\\archive (7)\\\\test',\n",
    "    target_size=(150, 150),\n",
    "    batch_size=batch_size,\n",
    "    class_mode='sparse')  # Use 'sparse' for integer labels\n"
   ]
  },
  {
   "cell_type": "code",
   "execution_count": 21,
   "metadata": {},
   "outputs": [
    {
     "name": "stdout",
     "output_type": "stream",
     "text": [
      "Number of folders in directory: 100\n"
     ]
    }
   ],
   "source": [
    "import os\n",
    "\n",
    "directory = '.\\\\archive (7)\\\\valid'\n",
    "num_folders = len([f for f in os.listdir(directory) if os.path.isdir(os.path.join(directory, f))])\n",
    "print(\"Number of folders in directory:\", num_folders)"
   ]
  },
  {
   "cell_type": "code",
   "execution_count": 22,
   "metadata": {},
   "outputs": [],
   "source": [
    "# # Define the input shape\n",
    "# input_shape = (150, 150, 3)  # Assuming images are 150x150 pixels with 3 color channels (RGB)\n",
    "\n",
    "# # Create the CNN model\n",
    "# model = tf.keras.models.Sequential([\n",
    "#     tf.keras.layers.Conv2D(32, (3, 3), activation='relu', input_shape=input_shape),\n",
    "#     tf.keras.layers.MaxPooling2D((2, 2)),\n",
    "#     tf.keras.layers.Conv2D(64, (3, 3), activation='relu'),\n",
    "#     tf.keras.layers.MaxPooling2D((2, 2)),\n",
    "#     # tf.keras.layers.Conv2D(128, (3, 3), activation='relu'),\n",
    "#     # tf.keras.layers.MaxPooling2D((2, 2)),\n",
    "#     tf.keras.layers.Flatten(),\n",
    "#     tf.keras.layers.Dense(128, activation='relu'),\n",
    "#     tf.keras.layers.Dense(num_folders, activation='softmax')  \n",
    "# ])\n",
    "\n",
    "# # Compile the model\n",
    "# model.compile(optimizer='adam',\n",
    "#               loss='sparse_categorical_crossentropy',  \n",
    "#               metrics=['accuracy']\n",
    "#               )"
   ]
  },
  {
   "cell_type": "code",
   "execution_count": 23,
   "metadata": {},
   "outputs": [],
   "source": [
    "from keras.applications.vgg16 import VGG16"
   ]
  },
  {
   "cell_type": "code",
   "execution_count": 24,
   "metadata": {},
   "outputs": [],
   "source": [
    "conv_base = VGG16(\n",
    "    weights='imagenet',\n",
    "    include_top = False,\n",
    "    input_shape=(150,150,3)\n",
    ")"
   ]
  },
  {
   "cell_type": "code",
   "execution_count": 25,
   "metadata": {},
   "outputs": [],
   "source": [
    "# for layer in conv_base.layers:\n",
    "#     layer.trainable=False\n",
    "conv_base.trainable=False"
   ]
  },
  {
   "cell_type": "code",
   "execution_count": 26,
   "metadata": {},
   "outputs": [],
   "source": [
    "# conv_base.trainable = True\n",
    "\n",
    "# set_trainable = False\n",
    "\n",
    "# for layer in conv_base.layers:\n",
    "#   if layer.name == 'block5_conv1':\n",
    "#     set_trainable = True\n",
    "#   if set_trainable:\n",
    "#     layer.trainable = True\n",
    "#   else:\n",
    "#     layer.trainable = False\n",
    "\n",
    "# for layer in conv_base.layers:\n",
    "#   print(layer.name,layer.trainable)"
   ]
  },
  {
   "cell_type": "code",
   "execution_count": 31,
   "metadata": {},
   "outputs": [],
   "source": [
    "model = tf.keras.Sequential()\n",
    "\n",
    "model.add(conv_base)\n",
    "model.add(tf.keras.layers.Flatten())\n",
    "model.add(tf.keras.layers.Dense(256,activation='relu'))\n",
    "model.add(tf.keras.layers.Dense(num_folders,activation='softmax'))"
   ]
  },
  {
   "cell_type": "code",
   "execution_count": 32,
   "metadata": {},
   "outputs": [],
   "source": [
    "# Compile the model\n",
    "model.compile(optimizer='adam',\n",
    "              loss='sparse_categorical_crossentropy',  \n",
    "              metrics=['accuracy']\n",
    "              )"
   ]
  },
  {
   "cell_type": "code",
   "execution_count": 33,
   "metadata": {},
   "outputs": [
    {
     "name": "stdout",
     "output_type": "stream",
     "text": [
      "Model: \"sequential_3\"\n",
      "_________________________________________________________________\n",
      " Layer (type)                Output Shape              Param #   \n",
      "=================================================================\n",
      " vgg16 (Functional)          (None, 4, 4, 512)         14714688  \n",
      "                                                                 \n",
      " flatten_3 (Flatten)         (None, 8192)              0         \n",
      "                                                                 \n",
      " dense_6 (Dense)             (None, 256)               2097408   \n",
      "                                                                 \n",
      " dense_7 (Dense)             (None, 100)               25700     \n",
      "                                                                 \n",
      "=================================================================\n",
      "Total params: 16,837,796\n",
      "Trainable params: 2,123,108\n",
      "Non-trainable params: 14,714,688\n",
      "_________________________________________________________________\n"
     ]
    }
   ],
   "source": [
    "model.summary()"
   ]
  },
  {
   "cell_type": "code",
   "execution_count": 34,
   "metadata": {},
   "outputs": [
    {
     "name": "stdout",
     "output_type": "stream",
     "text": [
      "Epoch 1/10\n",
      "422/422 [==============================] - 114s 256ms/step - loss: 2.9720 - accuracy: 0.3064 - val_loss: 1.8780 - val_accuracy: 0.4980\n",
      "Epoch 2/10\n",
      "422/422 [==============================] - 115s 272ms/step - loss: 1.6545 - accuracy: 0.5651 - val_loss: 1.4599 - val_accuracy: 0.5880\n",
      "Epoch 3/10\n",
      "422/422 [==============================] - 141s 333ms/step - loss: 1.2609 - accuracy: 0.6539 - val_loss: 1.3014 - val_accuracy: 0.6420\n",
      "Epoch 4/10\n",
      "422/422 [==============================] - 145s 344ms/step - loss: 1.0520 - accuracy: 0.7120 - val_loss: 1.1236 - val_accuracy: 0.6840\n",
      "Epoch 5/10\n",
      "422/422 [==============================] - 150s 355ms/step - loss: 0.8950 - accuracy: 0.7474 - val_loss: 1.1694 - val_accuracy: 0.6580\n",
      "Epoch 6/10\n",
      "422/422 [==============================] - 126s 299ms/step - loss: 0.7749 - accuracy: 0.7780 - val_loss: 1.1791 - val_accuracy: 0.6640\n",
      "Epoch 7/10\n",
      "422/422 [==============================] - 89s 210ms/step - loss: 0.6949 - accuracy: 0.8000 - val_loss: 1.0982 - val_accuracy: 0.6820\n",
      "Epoch 8/10\n",
      "422/422 [==============================] - 96s 227ms/step - loss: 0.6076 - accuracy: 0.8213 - val_loss: 1.0065 - val_accuracy: 0.7100\n",
      "Epoch 9/10\n",
      "422/422 [==============================] - 102s 242ms/step - loss: 0.5311 - accuracy: 0.8411 - val_loss: 1.1214 - val_accuracy: 0.6900\n",
      "Epoch 10/10\n",
      "422/422 [==============================] - 113s 266ms/step - loss: 0.4904 - accuracy: 0.8550 - val_loss: 1.0434 - val_accuracy: 0.6980\n"
     ]
    },
    {
     "data": {
      "text/plain": [
       "<keras.callbacks.History at 0x2620dcc0940>"
      ]
     },
     "execution_count": 34,
     "metadata": {},
     "output_type": "execute_result"
    }
   ],
   "source": [
    "model.fit(train_gen,epochs=10,validation_data=validation_gen)"
   ]
  },
  {
   "cell_type": "code",
   "execution_count": 35,
   "metadata": {},
   "outputs": [
    {
     "name": "stdout",
     "output_type": "stream",
     "text": [
      "16/16 [==============================] - 3s 157ms/step - loss: 0.7215 - accuracy: 0.7780\n"
     ]
    },
    {
     "data": {
      "text/plain": [
       "[0.7215368747711182, 0.777999997138977]"
      ]
     },
     "execution_count": 35,
     "metadata": {},
     "output_type": "execute_result"
    }
   ],
   "source": [
    "model.evaluate(test_gen)"
   ]
  },
  {
   "cell_type": "code",
   "execution_count": null,
   "metadata": {},
   "outputs": [],
   "source": []
  }
 ],
 "metadata": {
  "kernelspec": {
   "display_name": "gpupy310",
   "language": "python",
   "name": "python3"
  },
  "language_info": {
   "codemirror_mode": {
    "name": "ipython",
    "version": 3
   },
   "file_extension": ".py",
   "mimetype": "text/x-python",
   "name": "python",
   "nbconvert_exporter": "python",
   "pygments_lexer": "ipython3",
   "version": "3.10.13"
  }
 },
 "nbformat": 4,
 "nbformat_minor": 2
}
